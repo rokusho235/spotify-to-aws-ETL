{
 "cells": [
  {
   "cell_type": "code",
   "execution_count": 1,
   "id": "4453abf7-b83c-4204-a0df-b1063d49f26b",
   "metadata": {},
   "outputs": [
    {
     "name": "stdout",
     "output_type": "stream",
     "text": [
      "Defaulting to user installation because normal site-packages is not writeableNote: you may need to restart the kernel to use updated packages.\n",
      "\n",
      "Collecting spotipy\n",
      "  Downloading spotipy-2.23.0-py3-none-any.whl.metadata (3.3 kB)\n",
      "Collecting redis>=3.5.3 (from spotipy)\n",
      "  Downloading redis-5.0.4-py3-none-any.whl.metadata (9.3 kB)\n",
      "Requirement already satisfied: requests>=2.25.0 in c:\\users\\rokus\\appdata\\local\\packages\\pythonsoftwarefoundation.python.3.12_qbz5n2kfra8p0\\localcache\\local-packages\\python312\\site-packages (from spotipy) (2.31.0)\n",
      "Requirement already satisfied: six>=1.15.0 in c:\\users\\rokus\\appdata\\local\\packages\\pythonsoftwarefoundation.python.3.12_qbz5n2kfra8p0\\localcache\\local-packages\\python312\\site-packages (from spotipy) (1.16.0)\n",
      "Requirement already satisfied: urllib3>=1.26.0 in c:\\users\\rokus\\appdata\\local\\packages\\pythonsoftwarefoundation.python.3.12_qbz5n2kfra8p0\\localcache\\local-packages\\python312\\site-packages (from spotipy) (2.2.1)\n",
      "Requirement already satisfied: charset-normalizer<4,>=2 in c:\\users\\rokus\\appdata\\local\\packages\\pythonsoftwarefoundation.python.3.12_qbz5n2kfra8p0\\localcache\\local-packages\\python312\\site-packages (from requests>=2.25.0->spotipy) (3.3.2)\n",
      "Requirement already satisfied: idna<4,>=2.5 in c:\\users\\rokus\\appdata\\local\\packages\\pythonsoftwarefoundation.python.3.12_qbz5n2kfra8p0\\localcache\\local-packages\\python312\\site-packages (from requests>=2.25.0->spotipy) (3.6)\n",
      "Requirement already satisfied: certifi>=2017.4.17 in c:\\users\\rokus\\appdata\\local\\packages\\pythonsoftwarefoundation.python.3.12_qbz5n2kfra8p0\\localcache\\local-packages\\python312\\site-packages (from requests>=2.25.0->spotipy) (2024.2.2)\n",
      "Downloading spotipy-2.23.0-py3-none-any.whl (29 kB)\n",
      "Downloading redis-5.0.4-py3-none-any.whl (251 kB)\n",
      "   ---------------------------------------- 0.0/252.0 kB ? eta -:--:--\n",
      "   ------ --------------------------------- 41.0/252.0 kB 991.0 kB/s eta 0:00:01\n",
      "   --------------------------- ------------ 174.1/252.0 kB 2.1 MB/s eta 0:00:01\n",
      "   ---------------------------------------- 252.0/252.0 kB 2.2 MB/s eta 0:00:00\n",
      "Installing collected packages: redis, spotipy\n",
      "Successfully installed redis-5.0.4 spotipy-2.23.0\n"
     ]
    }
   ],
   "source": [
    "pip install spotipy"
   ]
  },
  {
   "cell_type": "code",
   "execution_count": 94,
   "id": "c8befca5-451c-42b2-ae6c-a72d8281465c",
   "metadata": {},
   "outputs": [],
   "source": [
    "import spotipy\n",
    "from spotipy.oauth2 import SpotifyClientCredentials as scc\n",
    "import pandas as pd"
   ]
  },
  {
   "cell_type": "code",
   "execution_count": 75,
   "id": "aa608344-9e47-40c5-b2c7-e7ce6088a130",
   "metadata": {},
   "outputs": [],
   "source": [
    "# Creating a Spotify obj to authenticate\n",
    "\n",
    "client_credentials_manager = scc(client_id='c872b1a8eff1460ab561726a9f0cad07', client_secret='1593529db9b14c8ea33405ba945a355d')"
   ]
  },
  {
   "cell_type": "code",
   "execution_count": 76,
   "id": "4f4b8268-c693-4e11-85ed-c2a21cf7e25b",
   "metadata": {},
   "outputs": [],
   "source": [
    "# Creating a Spotify obj to be able to use/extract data from Spotify once it has been authorized\n",
    "\n",
    "sp = spotipy.Spotify(client_credentials_manager = client_credentials_manager)"
   ]
  },
  {
   "cell_type": "code",
   "execution_count": 77,
   "id": "b6d435ec-a454-4707-90c2-c2336328caae",
   "metadata": {},
   "outputs": [],
   "source": [
    "playlist_link = 'https://open.spotify.com/playlist/37i9dQZEVXbLRQDuF5jeBp'"
   ]
  },
  {
   "cell_type": "code",
   "execution_count": 78,
   "id": "01f0de59-0a40-4005-b4c2-4d2e119c8b5a",
   "metadata": {},
   "outputs": [],
   "source": [
    "# Extracting the URI from the URL above\n",
    "\n",
    "playlist_URI = playlist_link.split('/')[-1].split('?')[0]"
   ]
  },
  {
   "cell_type": "code",
   "execution_count": 79,
   "id": "42a1664c-51f5-4723-b49a-6f9e438cdc2b",
   "metadata": {},
   "outputs": [],
   "source": [
    "# Creating dictionary with tracks from the playlist\n",
    "\n",
    "data = sp.playlist_tracks(playlist_URI)"
   ]
  },
  {
   "cell_type": "code",
   "execution_count": 85,
   "id": "d5164089-c3b8-48f9-a1d3-75284b2c602f",
   "metadata": {},
   "outputs": [],
   "source": [
    "# We did this after the loop but creating the list of the album/track dictionaries\n",
    "\n",
    "album_list = []\n",
    "\n",
    "# loop for album info only\n",
    "\n",
    "for row in data['items']:\n",
    "    # album ID = https://open.spotify.com/album/1Mo4aZ8pdj6L1jx8zSwJnt\n",
    "    album_id = row['track']['album']['id']\n",
    "    # album name\n",
    "    album_name = row['track']['album']['name']\n",
    "    # release date of album\n",
    "    album_date = row['track']['album']['release_date']\n",
    "    # total tracks from album\n",
    "    album_trackNo = row['track']['album']['total_tracks']\n",
    "    # album spotify URL (similar to album ID)\n",
    "    album_url = row['track']['album']['external_urls']['spotify']\n",
    "    # album artist\n",
    "    # album_artist = row['track']['album']['artists'][0]['name']\n",
    "    \n",
    "    # creating a dictionary for the above extracted data\n",
    "    album_element = {\n",
    "                        'album_id':album_id,\n",
    "                         'album_name':album_name,\n",
    "                         'album_date':album_date,\n",
    "                         'album_trackNo':album_trackNo,\n",
    "                         'album_url':album_url\n",
    "                        # ,\n",
    "                        # 'album_artist':album_artist\n",
    "                    }\n",
    "    # adding the top 50 USA song info into the initialized list\n",
    "    album_list.append(album_element)"
   ]
  },
  {
   "cell_type": "code",
   "execution_count": 89,
   "id": "93b55c99-9896-4427-8661-647958ef5406",
   "metadata": {},
   "outputs": [],
   "source": [
    "# We did this after the loop but creating the list of the artist dictionaries\n",
    "\n",
    "artist_list = []\n",
    "\n",
    "# loop for album artist/s only\n",
    "\n",
    "for row in data['items']:\n",
    "    for key, value in row.items():\n",
    "        if key == 'track':\n",
    "            for artist in value['artists']:\n",
    "                artist_dict = {\n",
    "                                'artist_id':artist['id'],\n",
    "                                'artist_name':artist['name'],\n",
    "                                'external_url':artist['href']\n",
    "                                }\n",
    "                artist_list.append(artist_dict)"
   ]
  },
  {
   "cell_type": "code",
   "execution_count": 92,
   "id": "4157ca5c-5982-42ff-aa19-014e240d29cb",
   "metadata": {},
   "outputs": [],
   "source": [
    "# We did this after the loop but creating the list of the song/track dictionaries\n",
    "\n",
    "song_list = []\n",
    "\n",
    "# loop for tracks only\n",
    "\n",
    "for row in data['items']:\n",
    "    song_id = row['track']['id']\n",
    "    song_name = row['track']['name']\n",
    "    song_duration = row['track']['duration_ms']\n",
    "    song_url = row['track']['external_urls']['spotify']\n",
    "    song_popularity = row['track']['popularity']\n",
    "    song_added = row['added_at']\n",
    "    album_id = row['track']['album']['id']\n",
    "    artist_id = row['track']['album']['artists'][0]['id']\n",
    "\n",
    "    song_element = {\n",
    "                        'song_id':song_id,\n",
    "                        'song_name':song_name,\n",
    "                        'song_duration':song_duration,\n",
    "                        'song_url':song_url,\n",
    "                        'song_popularity':song_popularity,\n",
    "                        'song_added':song_added,\n",
    "                        'album_id':album_id,\n",
    "                        'artist_id':artist_id\n",
    "                    }\n",
    "    song_list.append(song_element)"
   ]
  },
  {
   "cell_type": "code",
   "execution_count": 106,
   "id": "0e0b6696-e032-42f7-adc3-c726fc05a910",
   "metadata": {},
   "outputs": [],
   "source": [
    "# putting extracted album data into dataframe\n",
    "\n",
    "album_df = pd.DataFrame.from_dict(album_list)\n",
    "\n",
    "# trimming fat/getting distinct album list\n",
    "\n",
    "album_df = album_df.drop_duplicates(subset=['album_id'])"
   ]
  },
  {
   "cell_type": "code",
   "execution_count": 113,
   "id": "d0a28127-1602-4a7b-8290-dd6b05c5b680",
   "metadata": {},
   "outputs": [],
   "source": [
    "# putting extracted artist data into dataframe\n",
    "\n",
    "artist_df = pd.DataFrame.from_dict(artist_list)\n",
    "\n",
    "# trimming fat/getting distinct artist list\n",
    "\n",
    "artist_df = artist_df.drop_duplicates(subset=['artist_id'])"
   ]
  },
  {
   "cell_type": "code",
   "execution_count": 120,
   "id": "f0ee91f5-74ff-491c-a2b9-9182817c1613",
   "metadata": {},
   "outputs": [],
   "source": [
    "# putting extracted song data into dataframe\n",
    "\n",
    "song_df = pd.DataFrame.from_dict(song_list)\n",
    "\n",
    "# trimming fat/getting distinct song list\n",
    "\n",
    "song_df = song_df.drop_duplicates(subset=['song_id'])"
   ]
  },
  {
   "cell_type": "code",
   "execution_count": 125,
   "id": "2f721448-6d4d-4919-b754-b073316c5ee2",
   "metadata": {},
   "outputs": [],
   "source": [
    "# converting column/s in album_df to be datetime format\n",
    "\n",
    "album_df['album_date'] = pd.to_datetime(album_df['album_date'])"
   ]
  },
  {
   "cell_type": "code",
   "execution_count": 126,
   "id": "343b20d9-4395-46d4-9c48-9d10f6cf4f53",
   "metadata": {},
   "outputs": [],
   "source": [
    "# converting column/s in song_df to be datetime format\n",
    "\n",
    "song_df['song_added'] = pd.to_datetime(song_df['song_added'])"
   ]
  }
 ],
 "metadata": {
  "kernelspec": {
   "display_name": "Python 3 (ipykernel)",
   "language": "python",
   "name": "python3"
  },
  "language_info": {
   "codemirror_mode": {
    "name": "ipython",
    "version": 3
   },
   "file_extension": ".py",
   "mimetype": "text/x-python",
   "name": "python",
   "nbconvert_exporter": "python",
   "pygments_lexer": "ipython3",
   "version": "3.12.3"
  }
 },
 "nbformat": 4,
 "nbformat_minor": 5
}
